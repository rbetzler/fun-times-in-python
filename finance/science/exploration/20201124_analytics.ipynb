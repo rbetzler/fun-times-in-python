{
 "cells": [
  {
   "cell_type": "code",
   "execution_count": 1,
   "metadata": {},
   "outputs": [],
   "source": [
    "import numpy as np\n",
    "import pandas as pd\n",
    "import matplotlib.pyplot as plt\n",
    "\n",
    "from finance.utilities import utils\n",
    "\n",
    "from pandas.plotting import register_matplotlib_converters\n",
    "register_matplotlib_converters()"
   ]
  },
  {
   "cell_type": "markdown",
   "metadata": {},
   "source": [
    "#### Testing smoothing"
   ]
  },
  {
   "cell_type": "code",
   "execution_count": 2,
   "metadata": {},
   "outputs": [],
   "source": [
    "MODEL_ID = 's1'\n",
    "SYMBOL = 'ASML'\n",
    "query = f'''\n",
    "    with\n",
    "    predictions as (\n",
    "      select *\n",
    "      from dev.predictions\n",
    "    )\n",
    "    select\n",
    "        p.model_id\n",
    "      , p.market_datetime\n",
    "      , p.symbol\n",
    "      , p.denormalized_prediction as thirty_day_low_prediction\n",
    "      , s.open\n",
    "      , min(s.open) over (\n",
    "        partition by s.symbol\n",
    "        order by s.market_datetime\n",
    "        rows between current row and 30 following\n",
    "        ) as thirty_day_low\n",
    "    from predictions as p\n",
    "    inner join td.stocks as s\n",
    "      on  p.symbol = s.symbol\n",
    "      and p.market_datetime = s.market_datetime\n",
    "    where p.model_id = '{MODEL_ID}'\n",
    "      --and p.symbol = '{SYMBOL}'\n",
    "    --limit 10\n",
    "    '''\n",
    "df = utils.query_db(query=query)"
   ]
  },
  {
   "cell_type": "code",
   "execution_count": 3,
   "metadata": {},
   "outputs": [
    {
     "data": {
      "text/html": [
       "<div>\n",
       "<style scoped>\n",
       "    .dataframe tbody tr th:only-of-type {\n",
       "        vertical-align: middle;\n",
       "    }\n",
       "\n",
       "    .dataframe tbody tr th {\n",
       "        vertical-align: top;\n",
       "    }\n",
       "\n",
       "    .dataframe thead th {\n",
       "        text-align: right;\n",
       "    }\n",
       "</style>\n",
       "<table border=\"1\" class=\"dataframe\">\n",
       "  <thead>\n",
       "    <tr style=\"text-align: right;\">\n",
       "      <th></th>\n",
       "      <th>model_id</th>\n",
       "      <th>market_datetime</th>\n",
       "      <th>symbol</th>\n",
       "      <th>thirty_day_low_prediction</th>\n",
       "      <th>open</th>\n",
       "      <th>thirty_day_low</th>\n",
       "    </tr>\n",
       "  </thead>\n",
       "  <tbody>\n",
       "    <tr>\n",
       "      <th>0</th>\n",
       "      <td>s1</td>\n",
       "      <td>2020-07-07</td>\n",
       "      <td>A</td>\n",
       "      <td>86.077255</td>\n",
       "      <td>88.84</td>\n",
       "      <td>88.83</td>\n",
       "    </tr>\n",
       "    <tr>\n",
       "      <th>1</th>\n",
       "      <td>s1</td>\n",
       "      <td>2020-07-08</td>\n",
       "      <td>A</td>\n",
       "      <td>85.908683</td>\n",
       "      <td>89.52</td>\n",
       "      <td>88.83</td>\n",
       "    </tr>\n",
       "    <tr>\n",
       "      <th>2</th>\n",
       "      <td>s1</td>\n",
       "      <td>2020-07-09</td>\n",
       "      <td>A</td>\n",
       "      <td>86.351514</td>\n",
       "      <td>89.65</td>\n",
       "      <td>88.83</td>\n",
       "    </tr>\n",
       "    <tr>\n",
       "      <th>3</th>\n",
       "      <td>s1</td>\n",
       "      <td>2020-07-10</td>\n",
       "      <td>A</td>\n",
       "      <td>85.960842</td>\n",
       "      <td>89.85</td>\n",
       "      <td>88.83</td>\n",
       "    </tr>\n",
       "    <tr>\n",
       "      <th>4</th>\n",
       "      <td>s1</td>\n",
       "      <td>2020-07-13</td>\n",
       "      <td>A</td>\n",
       "      <td>85.847624</td>\n",
       "      <td>89.97</td>\n",
       "      <td>88.83</td>\n",
       "    </tr>\n",
       "    <tr>\n",
       "      <th>...</th>\n",
       "      <td>...</td>\n",
       "      <td>...</td>\n",
       "      <td>...</td>\n",
       "      <td>...</td>\n",
       "      <td>...</td>\n",
       "      <td>...</td>\n",
       "    </tr>\n",
       "    <tr>\n",
       "      <th>3763</th>\n",
       "      <td>s1</td>\n",
       "      <td>2020-09-10</td>\n",
       "      <td>ALK</td>\n",
       "      <td>35.178800</td>\n",
       "      <td>41.29</td>\n",
       "      <td>40.76</td>\n",
       "    </tr>\n",
       "    <tr>\n",
       "      <th>3764</th>\n",
       "      <td>s1</td>\n",
       "      <td>2020-09-11</td>\n",
       "      <td>ALK</td>\n",
       "      <td>35.412137</td>\n",
       "      <td>40.76</td>\n",
       "      <td>40.76</td>\n",
       "    </tr>\n",
       "    <tr>\n",
       "      <th>3765</th>\n",
       "      <td>s1</td>\n",
       "      <td>2020-09-14</td>\n",
       "      <td>ALK</td>\n",
       "      <td>34.926263</td>\n",
       "      <td>40.80</td>\n",
       "      <td>40.80</td>\n",
       "    </tr>\n",
       "    <tr>\n",
       "      <th>3766</th>\n",
       "      <td>s1</td>\n",
       "      <td>2020-09-15</td>\n",
       "      <td>ALK</td>\n",
       "      <td>34.753235</td>\n",
       "      <td>41.69</td>\n",
       "      <td>41.69</td>\n",
       "    </tr>\n",
       "    <tr>\n",
       "      <th>3767</th>\n",
       "      <td>s1</td>\n",
       "      <td>2020-09-16</td>\n",
       "      <td>ALK</td>\n",
       "      <td>35.016147</td>\n",
       "      <td>42.13</td>\n",
       "      <td>42.13</td>\n",
       "    </tr>\n",
       "  </tbody>\n",
       "</table>\n",
       "<p>3768 rows × 6 columns</p>\n",
       "</div>"
      ],
      "text/plain": [
       "     model_id market_datetime symbol  thirty_day_low_prediction   open  \\\n",
       "0          s1      2020-07-07      A                  86.077255  88.84   \n",
       "1          s1      2020-07-08      A                  85.908683  89.52   \n",
       "2          s1      2020-07-09      A                  86.351514  89.65   \n",
       "3          s1      2020-07-10      A                  85.960842  89.85   \n",
       "4          s1      2020-07-13      A                  85.847624  89.97   \n",
       "...       ...             ...    ...                        ...    ...   \n",
       "3763       s1      2020-09-10    ALK                  35.178800  41.29   \n",
       "3764       s1      2020-09-11    ALK                  35.412137  40.76   \n",
       "3765       s1      2020-09-14    ALK                  34.926263  40.80   \n",
       "3766       s1      2020-09-15    ALK                  34.753235  41.69   \n",
       "3767       s1      2020-09-16    ALK                  35.016147  42.13   \n",
       "\n",
       "      thirty_day_low  \n",
       "0              88.83  \n",
       "1              88.83  \n",
       "2              88.83  \n",
       "3              88.83  \n",
       "4              88.83  \n",
       "...              ...  \n",
       "3763           40.76  \n",
       "3764           40.76  \n",
       "3765           40.80  \n",
       "3766           41.69  \n",
       "3767           42.13  \n",
       "\n",
       "[3768 rows x 6 columns]"
      ]
     },
     "execution_count": 3,
     "metadata": {},
     "output_type": "execute_result"
    }
   ],
   "source": [
    "df"
   ]
  },
  {
   "cell_type": "code",
   "execution_count": 4,
   "metadata": {},
   "outputs": [
    {
     "data": {
      "image/png": "[encoded data removed]",
      "text/plain": [
       "<Figure size 432x288 with 1 Axes>"
      ]
     },
     "metadata": {
      "needs_background": "light"
     },
     "output_type": "display_data"
    }
   ],
   "source": [
    "x = df[df['symbol']=='AIG']\n",
    "\n",
    "plt.plot(x['market_datetime'], x['thirty_day_low_prediction'], color='m')\n",
    "plt.plot(x['market_datetime'], x['thirty_day_low'], color='b')\n",
    "plt.plot(x['market_datetime'], x['open'], color='g')\n",
    "plt.show()"
   ]
  },
  {
   "cell_type": "code",
   "execution_count": null,
   "metadata": {},
   "outputs": [],
   "source": []
  }
 ],
 "metadata": {
  "kernelspec": {
   "display_name": "Python 3",
   "language": "python",
   "name": "python3"
  },
  "language_info": {
   "codemirror_mode": {
    "name": "ipython",
    "version": 3
   },
   "file_extension": ".py",
   "mimetype": "text/x-python",
   "name": "python",
   "nbconvert_exporter": "python",
   "pygments_lexer": "ipython3",
   "version": "3.6.5"
  },
  "pycharm": {
   "stem_cell": {
    "cell_type": "raw",
    "metadata": {
     "collapsed": false
    },
    "source": []
   }
  }
 },
 "nbformat": 4,
 "nbformat_minor": 4
}
