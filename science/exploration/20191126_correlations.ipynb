{
 "cells": [
  {
   "cell_type": "code",
   "execution_count": 1,
   "metadata": {},
   "outputs": [],
   "source": [
    "import psycopg2\n",
    "import datetime\n",
    "import numpy as np\n",
    "import pandas as pd\n",
    "from itertools import islice\n",
    "from sklearn import preprocessing\n",
    "\n",
    "import matplotlib.pyplot as plt\n",
    "from pandas.plotting import register_matplotlib_converters\n",
    "\n",
    "import scipy\n",
    "from sklearn.linear_model import LinearRegression\n",
    "\n",
    "from finance.utilities import utils\n",
    "from finance.data_science.utilities import (financial_utils, time_series_utils, \n",
    "                                            cluster_utils, random_forest_utils, nn_utils)"
   ]
  },
  {
   "cell_type": "markdown",
   "metadata": {},
   "source": [
    "### Get stock data"
   ]
  },
  {
   "cell_type": "code",
   "execution_count": 2,
   "metadata": {},
   "outputs": [
    {
     "data": {
      "text/html": [
       "<div>\n",
       "<style scoped>\n",
       "    .dataframe tbody tr th:only-of-type {\n",
       "        vertical-align: middle;\n",
       "    }\n",
       "\n",
       "    .dataframe tbody tr th {\n",
       "        vertical-align: top;\n",
       "    }\n",
       "\n",
       "    .dataframe thead th {\n",
       "        text-align: right;\n",
       "    }\n",
       "</style>\n",
       "<table border=\"1\" class=\"dataframe\">\n",
       "  <thead>\n",
       "    <tr style=\"text-align: right;\">\n",
       "      <th></th>\n",
       "      <th>market_datetime</th>\n",
       "      <th>_year</th>\n",
       "      <th>month_of_year</th>\n",
       "      <th>week_of_year</th>\n",
       "      <th>symbol</th>\n",
       "      <th>sector</th>\n",
       "      <th>industry</th>\n",
       "      <th>open</th>\n",
       "      <th>high</th>\n",
       "      <th>low</th>\n",
       "      <th>close</th>\n",
       "      <th>volume</th>\n",
       "    </tr>\n",
       "  </thead>\n",
       "  <tbody>\n",
       "    <tr>\n",
       "      <th>0</th>\n",
       "      <td>2019-01-09 06:00:00</td>\n",
       "      <td>2019.0</td>\n",
       "      <td>1.0</td>\n",
       "      <td>2.0</td>\n",
       "      <td>AEE</td>\n",
       "      <td>Public Utilities</td>\n",
       "      <td>Power Generation</td>\n",
       "      <td>64.64</td>\n",
       "      <td>65.03</td>\n",
       "      <td>64.100</td>\n",
       "      <td>64.38</td>\n",
       "      <td>1501042.0</td>\n",
       "    </tr>\n",
       "    <tr>\n",
       "      <th>1</th>\n",
       "      <td>2019-01-10 06:00:00</td>\n",
       "      <td>2019.0</td>\n",
       "      <td>1.0</td>\n",
       "      <td>2.0</td>\n",
       "      <td>AEE</td>\n",
       "      <td>Public Utilities</td>\n",
       "      <td>Power Generation</td>\n",
       "      <td>64.53</td>\n",
       "      <td>65.86</td>\n",
       "      <td>64.270</td>\n",
       "      <td>65.81</td>\n",
       "      <td>1080052.0</td>\n",
       "    </tr>\n",
       "    <tr>\n",
       "      <th>2</th>\n",
       "      <td>2019-01-11 06:00:00</td>\n",
       "      <td>2019.0</td>\n",
       "      <td>1.0</td>\n",
       "      <td>2.0</td>\n",
       "      <td>AEE</td>\n",
       "      <td>Public Utilities</td>\n",
       "      <td>Power Generation</td>\n",
       "      <td>65.71</td>\n",
       "      <td>65.89</td>\n",
       "      <td>65.085</td>\n",
       "      <td>65.55</td>\n",
       "      <td>873670.0</td>\n",
       "    </tr>\n",
       "    <tr>\n",
       "      <th>3</th>\n",
       "      <td>2019-01-14 06:00:00</td>\n",
       "      <td>2019.0</td>\n",
       "      <td>1.0</td>\n",
       "      <td>3.0</td>\n",
       "      <td>AEE</td>\n",
       "      <td>Public Utilities</td>\n",
       "      <td>Power Generation</td>\n",
       "      <td>64.87</td>\n",
       "      <td>65.15</td>\n",
       "      <td>64.170</td>\n",
       "      <td>64.96</td>\n",
       "      <td>1499480.0</td>\n",
       "    </tr>\n",
       "    <tr>\n",
       "      <th>4</th>\n",
       "      <td>2019-01-15 06:00:00</td>\n",
       "      <td>2019.0</td>\n",
       "      <td>1.0</td>\n",
       "      <td>3.0</td>\n",
       "      <td>AEE</td>\n",
       "      <td>Public Utilities</td>\n",
       "      <td>Power Generation</td>\n",
       "      <td>64.77</td>\n",
       "      <td>66.66</td>\n",
       "      <td>64.670</td>\n",
       "      <td>66.04</td>\n",
       "      <td>1794932.0</td>\n",
       "    </tr>\n",
       "  </tbody>\n",
       "</table>\n",
       "</div>"
      ],
      "text/plain": [
       "      market_datetime   _year  month_of_year  week_of_year symbol  \\\n",
       "0 2019-01-09 06:00:00  2019.0            1.0           2.0    AEE   \n",
       "1 2019-01-10 06:00:00  2019.0            1.0           2.0    AEE   \n",
       "2 2019-01-11 06:00:00  2019.0            1.0           2.0    AEE   \n",
       "3 2019-01-14 06:00:00  2019.0            1.0           3.0    AEE   \n",
       "4 2019-01-15 06:00:00  2019.0            1.0           3.0    AEE   \n",
       "\n",
       "             sector          industry   open   high     low  close     volume  \n",
       "0  Public Utilities  Power Generation  64.64  65.03  64.100  64.38  1501042.0  \n",
       "1  Public Utilities  Power Generation  64.53  65.86  64.270  65.81  1080052.0  \n",
       "2  Public Utilities  Power Generation  65.71  65.89  65.085  65.55   873670.0  \n",
       "3  Public Utilities  Power Generation  64.87  65.15  64.170  64.96  1499480.0  \n",
       "4  Public Utilities  Power Generation  64.77  66.66  64.670  66.04  1794932.0  "
      ]
     },
     "execution_count": 2,
     "metadata": {},
     "output_type": "execute_result"
    }
   ],
   "source": [
    "query = f\"\"\"\n",
    "    with \n",
    "    tickers as (\n",
    "    select distinct \n",
    "        ticker\n",
    "        , sector\n",
    "        , industry\n",
    "    from nasdaq.listed_stocks\n",
    "    where ticker in ('AEE' , 'WEC')\n",
    "    limit 100\n",
    "    )\n",
    "    select \n",
    "        market_datetime\n",
    "        , extract(year from market_datetime) as _year\n",
    "        , extract(month from market_datetime) as month_of_year\n",
    "        , extract(week from market_datetime) as week_of_year\n",
    "        , symbol\n",
    "        , sector\n",
    "        , industry\n",
    "        , open\n",
    "        , high\n",
    "        , low\n",
    "        , close\n",
    "        , volume\n",
    "    from td.equities as equities\n",
    "    inner join tickers\n",
    "        on tickers.ticker = equities.symbol\n",
    "    where market_datetime between '2019-01-09' and '2019-09-09'\n",
    "    \"\"\"\n",
    "\n",
    "df = utils.query_db(query=query)\n",
    "df.head()"
   ]
  },
  {
   "cell_type": "markdown",
   "metadata": {},
   "source": [
    "### Clean data"
   ]
  },
  {
   "cell_type": "code",
   "execution_count": 3,
   "metadata": {},
   "outputs": [],
   "source": [
    "df['market_datetime_month'] = df['market_datetime'].dt.month\n",
    "df['market_datetime_day_of_week'] = df['market_datetime'].dt.dayofweek\n",
    "\n",
    "df['market_datetime_int'] = df['market_datetime'].astype(int)\n",
    "\n",
    "df = cluster_utils.encode_one_hot(df, ['symbol', 'sector', 'industry', \n",
    "                                       'market_datetime_month', 'market_datetime_day_of_week'])"
   ]
  },
  {
   "cell_type": "code",
   "execution_count": 4,
   "metadata": {},
   "outputs": [],
   "source": [
    "df_symbol = df.groupby(['symbol', 'market_datetime']).mean()\n",
    "\n",
    "one = df_symbol[df_symbol.index.get_level_values('symbol').isin([df['symbol'].unique()[0]])].open\n",
    "two = df_symbol[df_symbol.index.get_level_values('symbol').isin([df['symbol'].unique()[1]])].open\n",
    "\n",
    "one = one.head(min(len(one), len(two)))\n",
    "two = two.head(min(len(one), len(two)))"
   ]
  },
  {
   "cell_type": "code",
   "execution_count": 5,
   "metadata": {},
   "outputs": [
    {
     "name": "stdout",
     "output_type": "stream",
     "text": [
      "Correlation: 0.9103280910596043\n"
     ]
    }
   ],
   "source": [
    "print('Correlation: ' + str(scipy.stats.pearsonr(one, two)[0]))"
   ]
  },
  {
   "cell_type": "code",
   "execution_count": 6,
   "metadata": {},
   "outputs": [
    {
     "data": {
      "image/png": "[encoded data removed]",
      "text/plain": [
       "<Figure size 432x288 with 1 Axes>"
      ]
     },
     "metadata": {
      "needs_background": "light"
     },
     "output_type": "display_data"
    }
   ],
   "source": [
    "plt.title('Daily Open')\n",
    "plt.plot(one.values)\n",
    "plt.plot(two.values)\n",
    "plt.show()"
   ]
  },
  {
   "cell_type": "code",
   "execution_count": 7,
   "metadata": {},
   "outputs": [],
   "source": [
    "regression = LinearRegression()\n",
    "regression.fit(X=one.values.reshape(-1, 1), y=two.values.reshape(-1, 1))\n",
    "\n",
    "prediction = regression.predict(one.values.reshape(-1, 1))"
   ]
  },
  {
   "cell_type": "code",
   "execution_count": 8,
   "metadata": {},
   "outputs": [
    {
     "data": {
      "image/png": "[encoded data removed]",
      "text/plain": [
       "<Figure size 432x288 with 1 Axes>"
      ]
     },
     "metadata": {
      "needs_background": "light"
     },
     "output_type": "display_data"
    }
   ],
   "source": [
    "plt.title('Correlation')\n",
    "plt.scatter(one, two, marker='.')\n",
    "plt.plot(one, prediction, color='r')\n",
    "plt.show()"
   ]
  },
  {
   "cell_type": "code",
   "execution_count": 9,
   "metadata": {},
   "outputs": [
    {
     "data": {
      "image/png": "[encoded data removed]",
      "text/plain": [
       "<Figure size 432x288 with 1 Axes>"
      ]
     },
     "metadata": {
      "needs_background": "light"
     },
     "output_type": "display_data"
    }
   ],
   "source": [
    "residuals = prediction - two.values.reshape(-1, 1)\n",
    "plt.title('Residuals')\n",
    "plt.hlines(0, xmin=0, xmax=len(residuals), color='r')\n",
    "plt.plot(residuals)\n",
    "plt.show()"
   ]
  },
  {
   "cell_type": "code",
   "execution_count": null,
   "metadata": {},
   "outputs": [],
   "source": []
  },
  {
   "cell_type": "code",
   "execution_count": null,
   "metadata": {},
   "outputs": [],
   "source": [
    "\"\"\"with tickers as (\n",
    "\tselect distinct \n",
    "\t\tticker\n",
    "\t\t, sector\n",
    "\t\t, industry\n",
    "\tfrom nasdaq.listed_stocks\n",
    "\tlimit 1000)\n",
    ", raw as (\n",
    "\tselect symbol\n",
    "\t\t, market_datetime\n",
    "\t\t, open\n",
    "\t\t, sector\n",
    "\t\t, industry\n",
    "\tfrom td.equities as e\n",
    "\tinner join tickers as l\n",
    "\t\ton e.symbol = l.ticker\n",
    "\twhere market_datetime > '2018-01-09')\n",
    "sectors as (\n",
    "\tselect a.market_datetime as a_market_datetime\n",
    "\t\t, a.symbol as a_symbol\n",
    "\t\t, b.symbol as b_symbol\n",
    "\t\t, a.open as a_open\n",
    "\t\t, b.open as b_open\n",
    "\tfrom raw as a\n",
    "\tinner join raw as b\n",
    "\t\ton a.symbol <> b.symbol\n",
    "\t\tand a.market_datetime = b.market_datetime\n",
    "\t\tand a.sector = b.sector\n",
    "\t\tand a.industry = b.industry\n",
    "\twhere a.market_datetime between '2019-01-09' and '2019-01-15'\n",
    ")\"\"\""
   ]
  }
 ],
 "metadata": {
  "kernelspec": {
   "display_name": "Python 3",
   "language": "python",
   "name": "python3"
  },
  "language_info": {
   "codemirror_mode": {
    "name": "ipython",
    "version": 3
   },
   "file_extension": ".py",
   "mimetype": "text/x-python",
   "name": "python",
   "nbconvert_exporter": "python",
   "pygments_lexer": "ipython3",
   "version": "3.6.5"
  }
 },
 "nbformat": 4,
 "nbformat_minor": 4
}
